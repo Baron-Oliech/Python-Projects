{
 "cells": [
  {
   "cell_type": "markdown",
   "id": "38432db6-ed87-424e-aad9-82929765c749",
   "metadata": {},
   "source": [
    "# BMI Calculator\n",
    "BMI= (Weight in Pound x 703)/(Height in inches x height in inches)"
   ]
  },
  {
   "cell_type": "code",
   "execution_count": 31,
   "id": "edfcf3fc-d38d-43fd-943e-4f0b912c3c4f",
   "metadata": {},
   "outputs": [
    {
     "name": "stdin",
     "output_type": "stream",
     "text": [
      "Enter Your name:  Grace\n",
      "Enter your weight in Pound:  262\n",
      "Enter your height in inches:  87\n"
     ]
    },
    {
     "name": "stdout",
     "output_type": "stream",
     "text": [
      "24.334258158277184\n",
      "Grace,you are normal weight.\n"
     ]
    }
   ],
   "source": [
    "name= input(\"Enter Your name: \")\n",
    "weight= int(input (\"Enter your weight in Pound: \"))\n",
    "height= int(input (\"Enter your height in inches: \"))\n",
    "BMI = (weight*703)/(height*height)\n",
    "print(BMI)\n",
    "\n",
    "if BMI>0:\n",
    "    if BMI <18.5:\n",
    "        print (name+ \",you are underweight.\")\n",
    "    elif BMI <=24.9:\n",
    "        print (name+ \",you are normal weight.\")\n",
    "    elif BMI <= 29.9:\n",
    "        print (name+\",you are overweight.\")\n",
    "    elif BMI <= 34.9:\n",
    "        print (name+\",you are Obese.\")\n",
    "    elif BMI <= 39.9:\n",
    "        print (name+\",you are Severely Obese.\")\n",
    "    elif BMI >= 40:\n",
    "        print (name+\",you are Morbidly Obese.\")\n",
    "    else:\n",
    "        print (\"Enter Valid Input.\")\n",
    "               "
   ]
  },
  {
   "cell_type": "code",
   "execution_count": 8,
   "id": "a19ec7d1-7cfc-44fd-9dca-d69220cbba39",
   "metadata": {},
   "outputs": [
    {
     "name": "stdin",
     "output_type": "stream",
     "text": [
      "Enter your name:  Jane\n",
      "Enter your age:  29\n",
      "Enter your gender:  Female\n",
      "Enter your height in m:  1.65\n",
      "Enter your weight in kg:  74\n"
     ]
    },
    {
     "name": "stdout",
     "output_type": "stream",
     "text": [
      "27.180899908172638\n",
      "Jane,you are overweight,you need to  reduce your starch intake, increase protein intake and workout.\n"
     ]
    }
   ],
   "source": [
    "#BMI = (Weight in Kilograms / (Height in Meters x Height in Meters))\n",
    "\n",
    "name=input(\"Enter your name: \")\n",
    "Age= input(\"Enter your age: \")\n",
    "Gender= input(\"Enter your gender: \")\n",
    "height= float(input(\"Enter your height in m: \"))\n",
    "weight= float(input (\"Enter your weight in kg: \"))\n",
    "BMI=(weight/(height*height))\n",
    "print(BMI)\n",
    "\n",
    "if BMI>0:\n",
    "    if BMI<16:\n",
    "        print(name+\",you are severely thin,you need to take more proteins and starch\")\n",
    "    elif BMI<17:\n",
    "        print(name+\",you are moderately thin,you need to take more proteins and starch\")\n",
    "    elif BMI <18.5:\n",
    "        print(name+\",you are mildy thin,you need to take more proteins and starch\")\n",
    "    elif BMI <25:\n",
    "        print(name+\",you are normal weight,maintain it\")\n",
    "    elif BMI <30:\n",
    "        print(name+\",you are overweight,you need to  reduce your starch intake, increase protein intake and workout.\")\n",
    "    elif BMI >=35:\n",
    "         print(name+\",you are obese, you need to  reduce your starch intake, increase protein intake and workout.\")\n",
    "    else:\n",
    "        print (\"Enter valid input.\")"
   ]
  },
  {
   "cell_type": "code",
   "execution_count": 5,
   "id": "b79762bf-54a3-433e-93c2-18141a6b64b4",
   "metadata": {},
   "outputs": [
    {
     "data": {
      "text/plain": [
       "str"
      ]
     },
     "execution_count": 5,
     "metadata": {},
     "output_type": "execute_result"
    }
   ],
   "source": [
    "type(height)"
   ]
  },
  {
   "cell_type": "code",
   "execution_count": null,
   "id": "267d187e-7236-47d2-bf7a-fc2cb47e53bd",
   "metadata": {},
   "outputs": [],
   "source": []
  },
  {
   "cell_type": "code",
   "execution_count": null,
   "id": "ce0f0efe-fcfe-4221-b8a4-0b26c5a3cc22",
   "metadata": {},
   "outputs": [],
   "source": []
  },
  {
   "cell_type": "code",
   "execution_count": null,
   "id": "2bc6af40-6271-4fae-b315-87ea346d3a58",
   "metadata": {},
   "outputs": [],
   "source": []
  },
  {
   "cell_type": "code",
   "execution_count": null,
   "id": "a9c34a39-9d17-40d7-8f21-0423b39abbfe",
   "metadata": {},
   "outputs": [],
   "source": []
  },
  {
   "cell_type": "code",
   "execution_count": null,
   "id": "1443ae39-a178-467d-9add-866f05c1cfc1",
   "metadata": {},
   "outputs": [],
   "source": []
  },
  {
   "cell_type": "code",
   "execution_count": null,
   "id": "91ce1e20-3507-4d33-b4c8-2c3986f136db",
   "metadata": {},
   "outputs": [],
   "source": []
  }
 ],
 "metadata": {
  "kernelspec": {
   "display_name": "Python 3 (ipykernel)",
   "language": "python",
   "name": "python3"
  },
  "language_info": {
   "codemirror_mode": {
    "name": "ipython",
    "version": 3
   },
   "file_extension": ".py",
   "mimetype": "text/x-python",
   "name": "python",
   "nbconvert_exporter": "python",
   "pygments_lexer": "ipython3",
   "version": "3.11.7"
  }
 },
 "nbformat": 4,
 "nbformat_minor": 5
}

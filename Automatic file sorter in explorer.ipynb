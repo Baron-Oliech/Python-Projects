{
 "cells": [
  {
   "cell_type": "markdown",
   "id": "d8b1e7b3-94ed-43d5-9f00-78a4f7e01133",
   "metadata": {},
   "source": [
    "# Automatic File Sorter in Explorer"
   ]
  },
  {
   "cell_type": "code",
   "execution_count": 1,
   "id": "31497cc6-b540-4f1f-b9f4-776477b34aaf",
   "metadata": {},
   "outputs": [],
   "source": [
    "import os,shutil\n",
    "\n",
    "#os means operating system,shutil allows us to perform high level operation "
   ]
  },
  {
   "cell_type": "code",
   "execution_count": 2,
   "id": "dd6e3df4-8af2-4cb3-86bf-921efe66ba22",
   "metadata": {},
   "outputs": [],
   "source": [
    "path= r\"C:/Users/Admin/OneDrive/Pictures/Screenshots/\""
   ]
  },
  {
   "cell_type": "code",
   "execution_count": 3,
   "id": "8b5f3e63-24e4-45b4-9602-018849015aab",
   "metadata": {},
   "outputs": [],
   "source": [
    "file_name=os.listdir(path)"
   ]
  },
  {
   "cell_type": "code",
   "execution_count": 4,
   "id": "fb0c0eee-2f81-4a89-96cb-63662425d326",
   "metadata": {},
   "outputs": [],
   "source": [
    "folder_name=['png file','ini file']\n",
    "\n",
    "for loop in range(0,1):\n",
    "   if not os.path.exists(path +folder_name[loop]):\n",
    "    os.makedirs(path +folder_name[loop])"
   ]
  },
  {
   "cell_type": "code",
   "execution_count": 7,
   "id": "3fa21271-178b-4855-8513-9fc90ae67df0",
   "metadata": {},
   "outputs": [],
   "source": [
    "for file in file_name:\n",
    "    if \".png\" in  file and not os.path.exists(path +'png file/'+ file):\n",
    "        shutil.move(path + file,path +'png file/'+ file)\n",
    "    #else:\n",
    "        print (\"There are files in this path were not moved\")"
   ]
  },
  {
   "cell_type": "code",
   "execution_count": null,
   "id": "0ece8943-b120-44d7-b22d-1078fac7a7ac",
   "metadata": {},
   "outputs": [],
   "source": []
  },
  {
   "cell_type": "code",
   "execution_count": 16,
   "id": "b6862c53-5cb7-4678-8d94-e4053b91d9b1",
   "metadata": {},
   "outputs": [],
   "source": [
    "import os,shutil"
   ]
  },
  {
   "cell_type": "code",
   "execution_count": 17,
   "id": "72f425fb-7126-4999-9331-e4e560392204",
   "metadata": {},
   "outputs": [],
   "source": [
    "path1=r\"C:/Users/Admin/OneDrive/Desktop/Letters/\""
   ]
  },
  {
   "cell_type": "code",
   "execution_count": 21,
   "id": "b08a903e-3686-40d1-a5aa-97fbf62c46d2",
   "metadata": {},
   "outputs": [],
   "source": [
    "file_names=os.listdir(path1)\n",
    "#print(file_names)"
   ]
  },
  {
   "cell_type": "code",
   "execution_count": 19,
   "id": "092f5e27-9318-4b46-833e-3544fef1f89a",
   "metadata": {},
   "outputs": [],
   "source": [
    "folder_names1=['docx files','pptx files','pub  file']\n",
    "\n",
    "for loop in range(0,2):\n",
    "    if not os.path.exists(path1+ folder_names1[loop]):\n",
    "        os.makedirs(path1+ folder_names1[loop])\n",
    "\n"
   ]
  },
  {
   "cell_type": "code",
   "execution_count": 22,
   "id": "b18a8caf-edaf-4660-9ba8-d9c0a644cf50",
   "metadata": {},
   "outputs": [
    {
     "name": "stdout",
     "output_type": "stream",
     "text": [
      "There are files in this path that were not moved\n"
     ]
    },
    {
     "ename": "FileNotFoundError",
     "evalue": "[Errno 2] No such file or directory: 'C:/Users/Admin/OneDrive/Desktop/Letters/docx file/BARON  O OLWENY_Updated CV 2022.docx'",
     "output_type": "error",
     "traceback": [
      "\u001b[1;31m---------------------------------------------------------------------------\u001b[0m",
      "\u001b[1;31mFileNotFoundError\u001b[0m                         Traceback (most recent call last)",
      "File \u001b[1;32m~\\anaconda3\\Lib\\shutil.py:825\u001b[0m, in \u001b[0;36mmove\u001b[1;34m(src, dst, copy_function)\u001b[0m\n\u001b[0;32m    824\u001b[0m \u001b[38;5;28;01mtry\u001b[39;00m:\n\u001b[1;32m--> 825\u001b[0m     os\u001b[38;5;241m.\u001b[39mrename(src, real_dst)\n\u001b[0;32m    826\u001b[0m \u001b[38;5;28;01mexcept\u001b[39;00m \u001b[38;5;167;01mOSError\u001b[39;00m:\n",
      "\u001b[1;31mFileNotFoundError\u001b[0m: [WinError 3] The system cannot find the path specified: 'C:/Users/Admin/OneDrive/Desktop/Letters/BARON  O OLWENY_Updated CV 2022.docx' -> 'C:/Users/Admin/OneDrive/Desktop/Letters/docx file/BARON  O OLWENY_Updated CV 2022.docx'",
      "\nDuring handling of the above exception, another exception occurred:\n",
      "\u001b[1;31mFileNotFoundError\u001b[0m                         Traceback (most recent call last)",
      "Cell \u001b[1;32mIn[22], line 3\u001b[0m\n\u001b[0;32m      1\u001b[0m \u001b[38;5;28;01mfor\u001b[39;00m file \u001b[38;5;129;01min\u001b[39;00m file_names:\n\u001b[0;32m      2\u001b[0m     \u001b[38;5;28;01mif\u001b[39;00m \u001b[38;5;124m\"\u001b[39m\u001b[38;5;124m.docx\u001b[39m\u001b[38;5;124m\"\u001b[39m \u001b[38;5;129;01min\u001b[39;00m  file \u001b[38;5;129;01mand\u001b[39;00m \u001b[38;5;129;01mnot\u001b[39;00m os\u001b[38;5;241m.\u001b[39mpath\u001b[38;5;241m.\u001b[39mexists(path1 \u001b[38;5;241m+\u001b[39m\u001b[38;5;124m'\u001b[39m\u001b[38;5;124mdocx file/\u001b[39m\u001b[38;5;124m'\u001b[39m\u001b[38;5;241m+\u001b[39m file):\n\u001b[1;32m----> 3\u001b[0m         shutil\u001b[38;5;241m.\u001b[39mmove(path1 \u001b[38;5;241m+\u001b[39m file,path1 \u001b[38;5;241m+\u001b[39m\u001b[38;5;124m'\u001b[39m\u001b[38;5;124mdocx file/\u001b[39m\u001b[38;5;124m'\u001b[39m\u001b[38;5;241m+\u001b[39m file)\n\u001b[0;32m      4\u001b[0m     \u001b[38;5;28;01mif\u001b[39;00m \u001b[38;5;124m\"\u001b[39m\u001b[38;5;124m.pptx\u001b[39m\u001b[38;5;124m\"\u001b[39m \u001b[38;5;129;01min\u001b[39;00m  file \u001b[38;5;129;01mand\u001b[39;00m \u001b[38;5;129;01mnot\u001b[39;00m os\u001b[38;5;241m.\u001b[39mpath\u001b[38;5;241m.\u001b[39mexists(path1 \u001b[38;5;241m+\u001b[39m\u001b[38;5;124m'\u001b[39m\u001b[38;5;124mpptx file/\u001b[39m\u001b[38;5;124m'\u001b[39m\u001b[38;5;241m+\u001b[39m file):\n\u001b[0;32m      5\u001b[0m         shutil\u001b[38;5;241m.\u001b[39mmove(path1 \u001b[38;5;241m+\u001b[39m file,path1 \u001b[38;5;241m+\u001b[39m\u001b[38;5;124m'\u001b[39m\u001b[38;5;124mpptx file/\u001b[39m\u001b[38;5;124m'\u001b[39m\u001b[38;5;241m+\u001b[39m file)\n",
      "File \u001b[1;32m~\\anaconda3\\Lib\\shutil.py:845\u001b[0m, in \u001b[0;36mmove\u001b[1;34m(src, dst, copy_function)\u001b[0m\n\u001b[0;32m    843\u001b[0m         rmtree(src)\n\u001b[0;32m    844\u001b[0m     \u001b[38;5;28;01melse\u001b[39;00m:\n\u001b[1;32m--> 845\u001b[0m         copy_function(src, real_dst)\n\u001b[0;32m    846\u001b[0m         os\u001b[38;5;241m.\u001b[39munlink(src)\n\u001b[0;32m    847\u001b[0m \u001b[38;5;28;01mreturn\u001b[39;00m real_dst\n",
      "File \u001b[1;32m~\\anaconda3\\Lib\\shutil.py:436\u001b[0m, in \u001b[0;36mcopy2\u001b[1;34m(src, dst, follow_symlinks)\u001b[0m\n\u001b[0;32m    434\u001b[0m \u001b[38;5;28;01mif\u001b[39;00m os\u001b[38;5;241m.\u001b[39mpath\u001b[38;5;241m.\u001b[39misdir(dst):\n\u001b[0;32m    435\u001b[0m     dst \u001b[38;5;241m=\u001b[39m os\u001b[38;5;241m.\u001b[39mpath\u001b[38;5;241m.\u001b[39mjoin(dst, os\u001b[38;5;241m.\u001b[39mpath\u001b[38;5;241m.\u001b[39mbasename(src))\n\u001b[1;32m--> 436\u001b[0m copyfile(src, dst, follow_symlinks\u001b[38;5;241m=\u001b[39mfollow_symlinks)\n\u001b[0;32m    437\u001b[0m copystat(src, dst, follow_symlinks\u001b[38;5;241m=\u001b[39mfollow_symlinks)\n\u001b[0;32m    438\u001b[0m \u001b[38;5;28;01mreturn\u001b[39;00m dst\n",
      "File \u001b[1;32m~\\anaconda3\\Lib\\shutil.py:258\u001b[0m, in \u001b[0;36mcopyfile\u001b[1;34m(src, dst, follow_symlinks)\u001b[0m\n\u001b[0;32m    256\u001b[0m \u001b[38;5;28;01mwith\u001b[39;00m \u001b[38;5;28mopen\u001b[39m(src, \u001b[38;5;124m'\u001b[39m\u001b[38;5;124mrb\u001b[39m\u001b[38;5;124m'\u001b[39m) \u001b[38;5;28;01mas\u001b[39;00m fsrc:\n\u001b[0;32m    257\u001b[0m     \u001b[38;5;28;01mtry\u001b[39;00m:\n\u001b[1;32m--> 258\u001b[0m         \u001b[38;5;28;01mwith\u001b[39;00m \u001b[38;5;28mopen\u001b[39m(dst, \u001b[38;5;124m'\u001b[39m\u001b[38;5;124mwb\u001b[39m\u001b[38;5;124m'\u001b[39m) \u001b[38;5;28;01mas\u001b[39;00m fdst:\n\u001b[0;32m    259\u001b[0m             \u001b[38;5;66;03m# macOS\u001b[39;00m\n\u001b[0;32m    260\u001b[0m             \u001b[38;5;28;01mif\u001b[39;00m _HAS_FCOPYFILE:\n\u001b[0;32m    261\u001b[0m                 \u001b[38;5;28;01mtry\u001b[39;00m:\n",
      "\u001b[1;31mFileNotFoundError\u001b[0m: [Errno 2] No such file or directory: 'C:/Users/Admin/OneDrive/Desktop/Letters/docx file/BARON  O OLWENY_Updated CV 2022.docx'"
     ]
    }
   ],
   "source": [
    "for file in file_names:\n",
    "    if \".docx\" in  file and not os.path.exists(path1 +'docx file/'+ file):\n",
    "        shutil.move(path1 + file,path1 +'docx file/'+ file)\n",
    "    if \".pptx\" in  file and not os.path.exists(path1 +'pptx file/'+ file):\n",
    "        shutil.move(path1 + file,path1 +'pptx file/'+ file)\n",
    "    if \".pub\" in  file and not os.path.exists(path1 +'pub file/'+ file):\n",
    "        shutil.move(path1 + file,path1 +'pub file/'+ file)\n",
    "    else:\n",
    "        print (\"There are files in this path that were not moved\")"
   ]
  },
  {
   "cell_type": "code",
   "execution_count": null,
   "id": "8572ba53-43ac-447a-923e-c83e9ade656b",
   "metadata": {},
   "outputs": [],
   "source": []
  },
  {
   "cell_type": "code",
   "execution_count": null,
   "id": "b1c679df-2b96-4fc8-912a-8a60e76b2606",
   "metadata": {},
   "outputs": [],
   "source": []
  },
  {
   "cell_type": "code",
   "execution_count": null,
   "id": "3b6ee415-9d62-4e45-a030-ee6a2c038b0a",
   "metadata": {},
   "outputs": [],
   "source": []
  },
  {
   "cell_type": "code",
   "execution_count": null,
   "id": "057a58d1-8316-41cf-a75f-9478c1df59e5",
   "metadata": {},
   "outputs": [],
   "source": []
  },
  {
   "cell_type": "code",
   "execution_count": null,
   "id": "ca729bb0-1b0e-4ee3-a66d-a87bfcd3f6ae",
   "metadata": {},
   "outputs": [],
   "source": []
  },
  {
   "cell_type": "code",
   "execution_count": null,
   "id": "3305ab5f-f78e-4cd2-93d0-dea216233a83",
   "metadata": {},
   "outputs": [],
   "source": []
  },
  {
   "cell_type": "code",
   "execution_count": null,
   "id": "a09ae940-02f4-4ef4-8914-ed9091762f52",
   "metadata": {},
   "outputs": [],
   "source": []
  },
  {
   "cell_type": "code",
   "execution_count": null,
   "id": "5144f7b6-73bb-4b7d-b762-cfe3123012cf",
   "metadata": {},
   "outputs": [],
   "source": []
  },
  {
   "cell_type": "code",
   "execution_count": null,
   "id": "9d8e51f0-76fa-4e65-b1b6-e45015ee3e34",
   "metadata": {},
   "outputs": [],
   "source": []
  },
  {
   "cell_type": "code",
   "execution_count": null,
   "id": "30160e94-88d7-4816-8670-ce40ad44f1cf",
   "metadata": {},
   "outputs": [],
   "source": []
  },
  {
   "cell_type": "code",
   "execution_count": null,
   "id": "0dfe5ad7-7dd7-4c32-8b79-15a03502d60f",
   "metadata": {},
   "outputs": [],
   "source": []
  },
  {
   "cell_type": "code",
   "execution_count": null,
   "id": "4b890368-2802-4308-a815-78456453efb9",
   "metadata": {},
   "outputs": [],
   "source": []
  },
  {
   "cell_type": "code",
   "execution_count": null,
   "id": "1af36763-0989-435e-b9ce-f02d891b6727",
   "metadata": {},
   "outputs": [],
   "source": []
  }
 ],
 "metadata": {
  "kernelspec": {
   "display_name": "Python 3 (ipykernel)",
   "language": "python",
   "name": "python3"
  },
  "language_info": {
   "codemirror_mode": {
    "name": "ipython",
    "version": 3
   },
   "file_extension": ".py",
   "mimetype": "text/x-python",
   "name": "python",
   "nbconvert_exporter": "python",
   "pygments_lexer": "ipython3",
   "version": "3.11.7"
  }
 },
 "nbformat": 4,
 "nbformat_minor": 5
}
